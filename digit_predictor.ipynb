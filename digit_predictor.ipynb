{
 "cells": [
  {
   "cell_type": "code",
   "execution_count": 47,
   "metadata": {
    "collapsed": false
   },
   "outputs": [],
   "source": [
    "import pandas as pd\n",
    "import numpy as np\n",
    "from sklearn.cross_validation import KFold\n",
    "\n",
    "from keras.utils.np_utils import to_categorical\n",
    "from sklearn.multiclass import OneVsRestClassifier as ovrc\n",
    "from sklearn.ensemble import RandomForestClassifier\n",
    "import time"
   ]
  },
  {
   "cell_type": "code",
   "execution_count": 48,
   "metadata": {
    "collapsed": true
   },
   "outputs": [],
   "source": [
    "import theano"
   ]
  },
  {
   "cell_type": "code",
   "execution_count": 49,
   "metadata": {
    "collapsed": false
   },
   "outputs": [],
   "source": [
    "# class train_model"
   ]
  },
  {
   "cell_type": "code",
   "execution_count": 50,
   "metadata": {
    "collapsed": false
   },
   "outputs": [
    {
     "name": "stdout",
     "output_type": "stream",
     "text": [
      "(42000, 785) (28000, 784)\n"
     ]
    }
   ],
   "source": [
    "dftrain = pd.read_csv('train.csv')\n",
    "dftest = pd.read_csv('test.csv')\n",
    "print dftrain.shape,  dftest.shape"
   ]
  },
  {
   "cell_type": "code",
   "execution_count": 51,
   "metadata": {
    "collapsed": false
   },
   "outputs": [],
   "source": [
    "all_cols = dftrain.columns\n",
    "feature_cols = all_cols[1:]\n",
    "target_cols = all_cols[0]"
   ]
  },
  {
   "cell_type": "code",
   "execution_count": 82,
   "metadata": {
    "collapsed": false
   },
   "outputs": [],
   "source": [
    "X_train = dftrain[feature_cols]\n",
    "y_train = dftrain[[target_cols]]\n",
    "X_test = dftest[feature_cols]"
   ]
  },
  {
   "cell_type": "code",
   "execution_count": 53,
   "metadata": {
    "collapsed": false
   },
   "outputs": [],
   "source": [
    "# from sklearn import preprocessing\n",
    "# lb = preprocessing.LabelBinarizer()\n",
    "# lb.fit(y_train_0.values)\n",
    "# # LabelBinarizer(neg_label=0, pos_label=1, sparse_output=False) \n",
    "# lb.classes_\n",
    "# y_train = pd.DataFrame(lb.transform(y_train_0.values))"
   ]
  },
  {
   "cell_type": "code",
   "execution_count": 54,
   "metadata": {
    "collapsed": false
   },
   "outputs": [],
   "source": [
    "# cols_to_retain = [ 'label' ]\n",
    "# cat_dict = y_train[ cols_to_retain ].to_dict( orient = 'records' )\n",
    "# from sklearn.feature_extraction import DictVectorizer as DV\n",
    "# vectorizer = DV( sparse = False )\n",
    "# y_train_cat = vectorizer.fit_transform(  cat_dict )"
   ]
  },
  {
   "cell_type": "code",
   "execution_count": 83,
   "metadata": {
    "collapsed": false
   },
   "outputs": [],
   "source": [
    "X_train = X_train.values.reshape((X_train.shape[0],28,28,1))\n",
    "X_test = X_test.values.reshape((X_test.shape[0],28,28,1))"
   ]
  },
  {
   "cell_type": "code",
   "execution_count": 56,
   "metadata": {
    "collapsed": false
   },
   "outputs": [
    {
     "data": {
      "text/plain": [
       "(1, 28, 28)"
      ]
     },
     "execution_count": 56,
     "metadata": {},
     "output_type": "execute_result"
    }
   ],
   "source": [
    "X_train[0].shape"
   ]
  },
  {
   "cell_type": "code",
   "execution_count": 58,
   "metadata": {
    "collapsed": false
   },
   "outputs": [
    {
     "data": {
      "text/plain": [
       "(42000, 1, 28, 28)"
      ]
     },
     "execution_count": 58,
     "metadata": {},
     "output_type": "execute_result"
    }
   ],
   "source": [
    "X_train.shape"
   ]
  },
  {
   "cell_type": "code",
   "execution_count": 59,
   "metadata": {
    "collapsed": false
   },
   "outputs": [],
   "source": [
    "# from matplotlib import pyplot as plt\n",
    "\n",
    "# plt.imshow(X_train[1])"
   ]
  },
  {
   "cell_type": "code",
   "execution_count": 61,
   "metadata": {
    "collapsed": false
   },
   "outputs": [
    {
     "data": {
      "text/plain": [
       "255"
      ]
     },
     "execution_count": 61,
     "metadata": {},
     "output_type": "execute_result"
    }
   ],
   "source": [
    "np.max(X_train)"
   ]
  },
  {
   "cell_type": "code",
   "execution_count": 84,
   "metadata": {
    "collapsed": true
   },
   "outputs": [],
   "source": [
    "X_train = X_train.astype('float32')\n",
    "X_test = X_test.astype('float32')\n",
    "X_train /= 255\n",
    "X_test /= 255"
   ]
  },
  {
   "cell_type": "code",
   "execution_count": 85,
   "metadata": {
    "collapsed": true
   },
   "outputs": [],
   "source": [
    "from keras.utils import np_utils"
   ]
  },
  {
   "cell_type": "code",
   "execution_count": 86,
   "metadata": {
    "collapsed": false
   },
   "outputs": [],
   "source": [
    "y_train = np_utils.to_categorical(y_train.values, 10)"
   ]
  },
  {
   "cell_type": "code",
   "execution_count": 67,
   "metadata": {
    "collapsed": false
   },
   "outputs": [],
   "source": [
    "# y_train = pd.DataFrame(to_categorical(y_train0.values))"
   ]
  },
  {
   "cell_type": "code",
   "execution_count": 68,
   "metadata": {
    "collapsed": true
   },
   "outputs": [],
   "source": [
    "import sklearn.preprocessing as skpp"
   ]
  },
  {
   "cell_type": "code",
   "execution_count": 69,
   "metadata": {
    "collapsed": false
   },
   "outputs": [],
   "source": [
    "from keras.models import Sequential\n",
    "from keras.layers import Activation, Dense, Dropout, Flatten\n",
    "from keras import optimizers\n",
    "from keras.wrappers.scikit_learn import KerasClassifier\n",
    "from keras.constraints import maxnorm\n",
    "from keras.utils import np_utils \n",
    "\n",
    "from keras.layers import Convolution2D, MaxPooling2D"
   ]
  },
  {
   "cell_type": "code",
   "execution_count": 79,
   "metadata": {
    "collapsed": true
   },
   "outputs": [],
   "source": [
    "from keras.preprocessing.image import ImageDataGenerator"
   ]
  },
  {
   "cell_type": "code",
   "execution_count": 97,
   "metadata": {
    "collapsed": false,
    "scrolled": true
   },
   "outputs": [
    {
     "name": "stdout",
     "output_type": "stream",
     "text": [
      "Epoch 1/15\n",
      "42000/42000 [==============================] - 192s - loss: 0.2293 - acc: 0.9280   \n",
      "Epoch 2/15\n",
      "42000/42000 [==============================] - 281s - loss: 0.0782 - acc: 0.9749   \n",
      "Epoch 3/15\n",
      "42000/42000 [==============================] - 255s - loss: 0.0565 - acc: 0.9821   \n",
      "Epoch 4/15\n",
      "42000/42000 [==============================] - 245s - loss: 0.0451 - acc: 0.9859   \n",
      "Epoch 5/15\n",
      "42000/42000 [==============================] - 187s - loss: 0.0355 - acc: 0.9887   \n",
      "Epoch 6/15\n",
      "42000/42000 [==============================] - 180s - loss: 0.0305 - acc: 0.9900   \n",
      "Epoch 7/15\n",
      "42000/42000 [==============================] - 174s - loss: 0.0257 - acc: 0.9913   \n",
      "Epoch 8/15\n",
      "42000/42000 [==============================] - 180s - loss: 0.0235 - acc: 0.9920   \n",
      "Epoch 9/15\n",
      "42000/42000 [==============================] - 175s - loss: 0.0197 - acc: 0.9933   \n",
      "Epoch 10/15\n",
      "42000/42000 [==============================] - 177s - loss: 0.0172 - acc: 0.9943   \n",
      "Epoch 11/15\n",
      "42000/42000 [==============================] - 177s - loss: 0.0160 - acc: 0.9947   \n",
      "Epoch 12/15\n",
      "42000/42000 [==============================] - 175s - loss: 0.0164 - acc: 0.9950   \n",
      "Epoch 13/15\n",
      "42000/42000 [==============================] - 168s - loss: 0.0125 - acc: 0.9956   \n",
      "Epoch 14/15\n",
      "42000/42000 [==============================] - 159s - loss: 0.0133 - acc: 0.9956   \n",
      "Epoch 15/15\n",
      "42000/42000 [==============================] - 160s - loss: 0.0113 - acc: 0.9965   \n"
     ]
    }
   ],
   "source": [
    "to = time.time()\n",
    "model = Sequential()\n",
    "model.add(Convolution2D(64, 5, 5, activation='relu', input_shape=(28,28,1)))\n",
    "model.add(Convolution2D(32, 1, 1, activation='relu'))\n",
    "model.add(MaxPooling2D(pool_size=(4,4)))\n",
    "model.add(Dropout(0.1))\n",
    "\n",
    "model.add(Flatten())\n",
    "model.add(Dense(128, activation='relu'))\n",
    "model.add(Dropout(0.1))\n",
    "model.add(Dense(10, activation='softmax'))\n",
    "\n",
    "model.compile(loss='categorical_crossentropy',\n",
    "              optimizer='adam',\n",
    "              metrics=['accuracy'])\n",
    "\n",
    "\n",
    "hist = model.fit(X_train, y_train, \n",
    "          batch_size=32, nb_epoch=15, verbose=1)\n",
    "\n",
    "# score = model.evaluate(X_test, Y_test, verbose=0)\n"
   ]
  },
  {
   "cell_type": "code",
   "execution_count": 98,
   "metadata": {
    "collapsed": false
   },
   "outputs": [
    {
     "name": "stdout",
     "output_type": "stream",
     "text": [
      "28000/28000 [==============================] - 110s   \n"
     ]
    }
   ],
   "source": [
    "y_pred = model.predict_classes(X_test, batch_size=4)\n",
    "# prob_matrix = model.predict_proba(Xtest, batch_size=10)"
   ]
  },
  {
   "cell_type": "code",
   "execution_count": 115,
   "metadata": {
    "collapsed": false
   },
   "outputs": [],
   "source": [
    "# y_train\n"
   ]
  },
  {
   "cell_type": "code",
   "execution_count": 90,
   "metadata": {
    "collapsed": false
   },
   "outputs": [
    {
     "data": {
      "text/plain": [
       "array([2, 0, 9, ..., 3, 9, 2])"
      ]
     },
     "execution_count": 90,
     "metadata": {},
     "output_type": "execute_result"
    }
   ],
   "source": [
    "y_pred"
   ]
  },
  {
   "cell_type": "code",
   "execution_count": 94,
   "metadata": {
    "collapsed": false
   },
   "outputs": [
    {
     "data": {
      "image/png": "[encoded data removed]",
      "text/plain": [
       "<matplotlib.figure.Figure at 0x12251d410>"
      ]
     },
     "metadata": {},
     "output_type": "display_data"
    },
    {
     "data": {
      "image/png": "[encoded data removed]",
      "text/plain": [
       "<matplotlib.figure.Figure at 0x11ff1c0d0>"
      ]
     },
     "metadata": {},
     "output_type": "display_data"
    }
   ],
   "source": [
    "import matplotlib.pyplot as plt\n",
    "\n",
    "# plt.figure(1)\n",
    "y1 = hist.history['loss'][:]\n",
    "# y2 = hist.history['val_loss'][:]\n",
    "plt.plot(y1)\n",
    "# plt.plot(y2)\n",
    "plt.xlabel('Epoch')\n",
    "plt.ylabel('Loss')\n",
    "plt.legend(['train','test'],loc='upper right')\n",
    "plt.show()\n",
    "\n",
    "plt.plot(hist.history['acc'][:])\n",
    "# plt.plot(hist.history['val_acc'][:])\n",
    "plt.title('model accuracy')\n",
    "plt.ylabel('Accuracy')\n",
    "plt.xlabel('Epoch')\n",
    "plt.legend(['train', 'test'], loc='lower right')\n",
    "plt.show()\n"
   ]
  },
  {
   "cell_type": "code",
   "execution_count": 99,
   "metadata": {
    "collapsed": false
   },
   "outputs": [],
   "source": [
    "\n",
    "submission = pd.DataFrame({'ImageID':list(range(1,len(y_pred)+1)),\"label\":y_pred})\n",
    "# submission['ImageId'] = np.arange(0,len(X_test))\n",
    "submission.to_csv('submission_hjd.csv',index=False, header=True)"
   ]
  },
  {
   "cell_type": "code",
   "execution_count": null,
   "metadata": {
    "collapsed": true
   },
   "outputs": [],
   "source": []
  }
 ],
 "metadata": {
  "anaconda-cloud": {},
  "kernelspec": {
   "display_name": "Python [conda root]",
   "language": "python",
   "name": "conda-root-py"
  },
  "language_info": {
   "codemirror_mode": {
    "name": "ipython",
    "version": 2
   },
   "file_extension": ".py",
   "mimetype": "text/x-python",
   "name": "python",
   "nbconvert_exporter": "python",
   "pygments_lexer": "ipython2",
   "version": "2.7.12"
  }
 },
 "nbformat": 4,
 "nbformat_minor": 1
}
